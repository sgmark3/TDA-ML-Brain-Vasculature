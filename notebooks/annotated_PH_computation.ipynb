{
 "cells": [
  {
   "cell_type": "markdown",
   "metadata": {},
   "source": [
    "#### Import packages"
   ]
  },
  {
   "cell_type": "code",
   "execution_count": 1,
   "metadata": {},
   "outputs": [],
   "source": [
    "import gudhi as gd\n",
    "import networkx as nx\n",
    "import csv\n",
    "import numpy as np\n",
    "from numpy import random\n",
    "import itertools\n",
    "import time\n",
    "import matplotlib.pyplot as plt\n",
    "from scipy import stats\n",
    "from scipy.stats import gamma\n",
    "import subprocess\n",
    "import os\n",
    "import math\n",
    "import multiprocessing as mp\n",
    "import pandas as pd\n",
    "\n",
    "%matplotlib inline"
   ]
  },
  {
   "cell_type": "code",
   "execution_count": 2,
   "metadata": {},
   "outputs": [],
   "source": [
    "## a code snippet to store the local path of the folder in which the current file is stored\n",
    "# cmd = subprocess.Popen('pwd', stdout=subprocess.PIPE)\n",
    "# cmd_out, cmd_err = cmd.communicate()\n",
    "# local_path = os.fsdecode(cmd_out).strip()"
   ]
  },
  {
   "cell_type": "markdown",
   "metadata": {},
   "source": [
    "#### Import vascular network data. \n",
    "Change '2020' to load other datasets (options available are '2019' and '2018')"
   ]
  },
  {
   "cell_type": "code",
   "execution_count": 2,
   "metadata": {},
   "outputs": [],
   "source": [
    "mouse_brain_vasc_network = pd.read_pickle('../data/annotated_mouse_brain_vasc_network_2020.pkl')\n",
    "\n",
    "## Grouping the networks by their annotations according Allen Atlas notation\n",
    "regional_groups = mouse_brain_vasc_network.groupby(by=['RL1','RL2'])"
   ]
  },
  {
   "cell_type": "code",
   "execution_count": 5,
   "metadata": {},
   "outputs": [
    {
     "name": "stdout",
     "output_type": "stream",
     "text": [
      "(1339, 1339)\n"
     ]
    }
   ],
   "source": [
    "rl1 = mouse_brain_vasc_network.RL1.unique()\n",
    "rl2 = mouse_brain_vasc_network.RL2.unique()\n",
    "\n",
    "## Total number of region labels\n",
    "print((len(rl1),len(rl2)))"
   ]
  },
  {
   "cell_type": "markdown",
   "metadata": {},
   "source": [
    "#### Import labels that fall under labels: 640 (BS) and 3 (CH).\n",
    "The above labels are chosen for experimentation with Topological data analysis (Persistent Homology) and Mahcine learning due to the limitations in the number of samples "
   ]
  },
  {
   "cell_type": "code",
   "execution_count": 7,
   "metadata": {},
   "outputs": [],
   "source": [
    "with open('../data/ML_2020/region_2020_640_labels.txt','r') as f:\n",
    "    lines = f.readlines()\n",
    "labels_640 = [[float(y) for y in line.strip().split(' ')] for line in lines]\n",
    "\n",
    "with open('../data/ML_2020/region_2020_3_labels.txt','r') as f:\n",
    "    lines = f.readlines()\n",
    "labels_3 = [[float(y) for y in line.strip().split(' ')] for line in lines]"
   ]
  },
  {
   "cell_type": "markdown",
   "metadata": {},
   "source": [
    "Consider networks that have number of nodes between 500 to 1500. This choice is a little arbitrary except that we need network samples that are approximately atleast as big as 500 nodes but that are not too big."
   ]
  },
  {
   "cell_type": "code",
   "execution_count": 8,
   "metadata": {},
   "outputs": [],
   "source": [
    "sizes = {}\n",
    "for label in labels_640:\n",
    "    region = regional_groups.get_group((label[0],label[1]))\n",
    "    n = len(region)\n",
    "    if (n>=500) and (n<= 1500):\n",
    "        df = region.fillna(region.dt.describe()['50%'])\n",
    "        sizes[(label[0],label[1])] = (640,n,np.mean(1/df.dt))\n",
    "        \n",
    "for label in labels_3:\n",
    "    region = regional_groups.get_group((label[0],label[1]))\n",
    "    n = len(region)\n",
    "    if (n>=500) and (n<= 1500):\n",
    "        df = region.fillna(region.dt.describe()['50%'])\n",
    "        sizes[(label[0],label[1])] = (3,n,np.mean(1/df.dt))"
   ]
  },
  {
   "cell_type": "markdown",
   "metadata": {},
   "source": [
    "Take a look at a network sample from each region"
   ]
  },
  {
   "cell_type": "code",
   "execution_count": 9,
   "metadata": {},
   "outputs": [],
   "source": [
    "region1 = regional_groups.get_group(list(sizes.keys())[0])\n",
    "region2 = regional_groups.get_group(list(sizes.keys())[-1])"
   ]
  },
  {
   "cell_type": "code",
   "execution_count": 10,
   "metadata": {},
   "outputs": [
    {
     "data": {
      "text/html": [
       "<div>\n",
       "<style scoped>\n",
       "    .dataframe tbody tr th:only-of-type {\n",
       "        vertical-align: middle;\n",
       "    }\n",
       "\n",
       "    .dataframe tbody tr th {\n",
       "        vertical-align: top;\n",
       "    }\n",
       "\n",
       "    .dataframe thead th {\n",
       "        text-align: right;\n",
       "    }\n",
       "</style>\n",
       "<table border=\"1\" class=\"dataframe\">\n",
       "  <thead>\n",
       "    <tr style=\"text-align: right;\">\n",
       "      <th></th>\n",
       "      <th>V1</th>\n",
       "      <th>RL1</th>\n",
       "      <th>VX1</th>\n",
       "      <th>VY1</th>\n",
       "      <th>VZ1</th>\n",
       "      <th>V2</th>\n",
       "      <th>RL2</th>\n",
       "      <th>VX2</th>\n",
       "      <th>VY2</th>\n",
       "      <th>VZ2</th>\n",
       "      <th>length</th>\n",
       "      <th>dt</th>\n",
       "    </tr>\n",
       "  </thead>\n",
       "  <tbody>\n",
       "    <tr>\n",
       "      <th>5935852</th>\n",
       "      <td>3890273.0</td>\n",
       "      <td>-945.0</td>\n",
       "      <td>3873.0</td>\n",
       "      <td>6662.0</td>\n",
       "      <td>14294.0</td>\n",
       "      <td>3894667.0</td>\n",
       "      <td>-945.0</td>\n",
       "      <td>3910.0</td>\n",
       "      <td>6653.0</td>\n",
       "      <td>14311.0</td>\n",
       "      <td>47.36525</td>\n",
       "      <td>2.112252</td>\n",
       "    </tr>\n",
       "    <tr>\n",
       "      <th>5944372</th>\n",
       "      <td>3895679.0</td>\n",
       "      <td>-945.0</td>\n",
       "      <td>3899.0</td>\n",
       "      <td>6704.0</td>\n",
       "      <td>14315.0</td>\n",
       "      <td>3902134.0</td>\n",
       "      <td>-945.0</td>\n",
       "      <td>3881.0</td>\n",
       "      <td>6660.0</td>\n",
       "      <td>14338.0</td>\n",
       "      <td>58.44930</td>\n",
       "      <td>5.796136</td>\n",
       "    </tr>\n",
       "    <tr>\n",
       "      <th>5947867</th>\n",
       "      <td>3898565.0</td>\n",
       "      <td>-945.0</td>\n",
       "      <td>3795.0</td>\n",
       "      <td>6645.0</td>\n",
       "      <td>14324.0</td>\n",
       "      <td>3924693.0</td>\n",
       "      <td>-945.0</td>\n",
       "      <td>3866.0</td>\n",
       "      <td>6588.0</td>\n",
       "      <td>14431.0</td>\n",
       "      <td>195.15290</td>\n",
       "      <td>2.289787</td>\n",
       "    </tr>\n",
       "    <tr>\n",
       "      <th>5948853</th>\n",
       "      <td>3898565.0</td>\n",
       "      <td>-945.0</td>\n",
       "      <td>3795.0</td>\n",
       "      <td>6645.0</td>\n",
       "      <td>14324.0</td>\n",
       "      <td>3922716.0</td>\n",
       "      <td>-945.0</td>\n",
       "      <td>3779.0</td>\n",
       "      <td>6683.0</td>\n",
       "      <td>14423.0</td>\n",
       "      <td>190.66700</td>\n",
       "      <td>2.057760</td>\n",
       "    </tr>\n",
       "    <tr>\n",
       "      <th>5953367</th>\n",
       "      <td>3901605.0</td>\n",
       "      <td>-945.0</td>\n",
       "      <td>3824.0</td>\n",
       "      <td>6585.0</td>\n",
       "      <td>14336.0</td>\n",
       "      <td>3907563.0</td>\n",
       "      <td>-945.0</td>\n",
       "      <td>3826.0</td>\n",
       "      <td>6556.0</td>\n",
       "      <td>14360.0</td>\n",
       "      <td>43.23239</td>\n",
       "      <td>2.079232</td>\n",
       "    </tr>\n",
       "  </tbody>\n",
       "</table>\n",
       "</div>"
      ],
      "text/plain": [
       "                V1    RL1     VX1     VY1      VZ1         V2    RL2     VX2  \\\n",
       "5935852  3890273.0 -945.0  3873.0  6662.0  14294.0  3894667.0 -945.0  3910.0   \n",
       "5944372  3895679.0 -945.0  3899.0  6704.0  14315.0  3902134.0 -945.0  3881.0   \n",
       "5947867  3898565.0 -945.0  3795.0  6645.0  14324.0  3924693.0 -945.0  3866.0   \n",
       "5948853  3898565.0 -945.0  3795.0  6645.0  14324.0  3922716.0 -945.0  3779.0   \n",
       "5953367  3901605.0 -945.0  3824.0  6585.0  14336.0  3907563.0 -945.0  3826.0   \n",
       "\n",
       "            VY2      VZ2     length        dt  \n",
       "5935852  6653.0  14311.0   47.36525  2.112252  \n",
       "5944372  6660.0  14338.0   58.44930  5.796136  \n",
       "5947867  6588.0  14431.0  195.15290  2.289787  \n",
       "5948853  6683.0  14423.0  190.66700  2.057760  \n",
       "5953367  6556.0  14360.0   43.23239  2.079232  "
      ]
     },
     "execution_count": 10,
     "metadata": {},
     "output_type": "execute_result"
    }
   ],
   "source": [
    "region1.head(5)"
   ]
  },
  {
   "cell_type": "code",
   "execution_count": 32,
   "metadata": {},
   "outputs": [
    {
     "data": {
      "text/html": [
       "<div>\n",
       "<style scoped>\n",
       "    .dataframe tbody tr th:only-of-type {\n",
       "        vertical-align: middle;\n",
       "    }\n",
       "\n",
       "    .dataframe tbody tr th {\n",
       "        vertical-align: top;\n",
       "    }\n",
       "\n",
       "    .dataframe thead th {\n",
       "        text-align: right;\n",
       "    }\n",
       "</style>\n",
       "<table border=\"1\" class=\"dataframe\">\n",
       "  <thead>\n",
       "    <tr style=\"text-align: right;\">\n",
       "      <th></th>\n",
       "      <th>V1</th>\n",
       "      <th>RL1</th>\n",
       "      <th>VX1</th>\n",
       "      <th>VY1</th>\n",
       "      <th>VZ1</th>\n",
       "      <th>V2</th>\n",
       "      <th>RL2</th>\n",
       "      <th>VX2</th>\n",
       "      <th>VY2</th>\n",
       "      <th>VZ2</th>\n",
       "      <th>length</th>\n",
       "      <th>dt</th>\n",
       "    </tr>\n",
       "  </thead>\n",
       "  <tbody>\n",
       "    <tr>\n",
       "      <th>4364591</th>\n",
       "      <td>2858123.0</td>\n",
       "      <td>510.0</td>\n",
       "      <td>5760.0</td>\n",
       "      <td>1572.0</td>\n",
       "      <td>11127.0</td>\n",
       "      <td>2868771.0</td>\n",
       "      <td>510.0</td>\n",
       "      <td>5739.0</td>\n",
       "      <td>1650.0</td>\n",
       "      <td>11159.0</td>\n",
       "      <td>121.11060</td>\n",
       "      <td>1.992310</td>\n",
       "    </tr>\n",
       "    <tr>\n",
       "      <th>4369923</th>\n",
       "      <td>2861325.0</td>\n",
       "      <td>510.0</td>\n",
       "      <td>5885.0</td>\n",
       "      <td>1801.0</td>\n",
       "      <td>11138.0</td>\n",
       "      <td>2863819.0</td>\n",
       "      <td>510.0</td>\n",
       "      <td>5865.0</td>\n",
       "      <td>1811.0</td>\n",
       "      <td>11144.0</td>\n",
       "      <td>23.14543</td>\n",
       "      <td>2.138414</td>\n",
       "    </tr>\n",
       "    <tr>\n",
       "      <th>4369951</th>\n",
       "      <td>2860979.0</td>\n",
       "      <td>510.0</td>\n",
       "      <td>6121.0</td>\n",
       "      <td>2339.0</td>\n",
       "      <td>11136.0</td>\n",
       "      <td>2863840.0</td>\n",
       "      <td>510.0</td>\n",
       "      <td>6112.0</td>\n",
       "      <td>2323.0</td>\n",
       "      <td>11144.0</td>\n",
       "      <td>19.80862</td>\n",
       "      <td>1.915143</td>\n",
       "    </tr>\n",
       "    <tr>\n",
       "      <th>4370560</th>\n",
       "      <td>2861367.0</td>\n",
       "      <td>510.0</td>\n",
       "      <td>6070.0</td>\n",
       "      <td>2735.0</td>\n",
       "      <td>11136.0</td>\n",
       "      <td>2880354.0</td>\n",
       "      <td>510.0</td>\n",
       "      <td>6171.0</td>\n",
       "      <td>2710.0</td>\n",
       "      <td>11193.0</td>\n",
       "      <td>178.65530</td>\n",
       "      <td>2.131732</td>\n",
       "    </tr>\n",
       "    <tr>\n",
       "      <th>4371033</th>\n",
       "      <td>2861325.0</td>\n",
       "      <td>510.0</td>\n",
       "      <td>5885.0</td>\n",
       "      <td>1801.0</td>\n",
       "      <td>11138.0</td>\n",
       "      <td>2879567.0</td>\n",
       "      <td>510.0</td>\n",
       "      <td>5943.0</td>\n",
       "      <td>1823.0</td>\n",
       "      <td>11191.0</td>\n",
       "      <td>91.80286</td>\n",
       "      <td>2.204412</td>\n",
       "    </tr>\n",
       "  </tbody>\n",
       "</table>\n",
       "</div>"
      ],
      "text/plain": [
       "                V1    RL1     VX1     VY1      VZ1         V2    RL2     VX2  \\\n",
       "4364591  2858123.0  510.0  5760.0  1572.0  11127.0  2868771.0  510.0  5739.0   \n",
       "4369923  2861325.0  510.0  5885.0  1801.0  11138.0  2863819.0  510.0  5865.0   \n",
       "4369951  2860979.0  510.0  6121.0  2339.0  11136.0  2863840.0  510.0  6112.0   \n",
       "4370560  2861367.0  510.0  6070.0  2735.0  11136.0  2880354.0  510.0  6171.0   \n",
       "4371033  2861325.0  510.0  5885.0  1801.0  11138.0  2879567.0  510.0  5943.0   \n",
       "\n",
       "            VY2      VZ2     length        dt  \n",
       "4364591  1650.0  11159.0  121.11060  1.992310  \n",
       "4369923  1811.0  11144.0   23.14543  2.138414  \n",
       "4369951  2323.0  11144.0   19.80862  1.915143  \n",
       "4370560  2710.0  11193.0  178.65530  2.131732  \n",
       "4371033  1823.0  11191.0   91.80286  2.204412  "
      ]
     },
     "execution_count": 32,
     "metadata": {},
     "output_type": "execute_result"
    }
   ],
   "source": [
    "region2.head(5)"
   ]
  },
  {
   "cell_type": "markdown",
   "metadata": {},
   "source": [
    "#### Helper functions"
   ]
  },
  {
   "cell_type": "markdown",
   "metadata": {},
   "source": [
    "Extract cubical regions of length, breadth and width of 500 micrometers. Systematic sampling using box-like non-overlapping regions. "
   ]
  },
  {
   "cell_type": "code",
   "execution_count": 22,
   "metadata": {},
   "outputs": [],
   "source": [
    "def extract_region(lb,delta,ax):\n",
    "    d = {'X':['VX1','VX2'],'Y':['VY1','VY2'],'Z':['VZ1','VZ2']}     \n",
    "    indices1 = list(region[(region[d[ax][0]] <= lb+delta) \\\n",
    "                                         & (region[d[ax][0]] >= lb)].index)\n",
    "    indices2 = list(region[(region[d[ax][1]] <= lb+delta) \\\n",
    "                                         & (region[d[ax][1]] >= lb)].index)\n",
    "    if indices1 and indices2:\n",
    "        return np.intersect1d(np.array(indices1),np.array(indices2)).flatten()\n",
    "    else:\n",
    "        return np.array([])"
   ]
  },
  {
   "cell_type": "markdown",
   "metadata": {},
   "source": [
    "Extract indices of the edges/connections that make up vascular networks in the cubical regions specified by the function extract_region(lb,delta,ax)"
   ]
  },
  {
   "cell_type": "code",
   "execution_count": 24,
   "metadata": {},
   "outputs": [],
   "source": [
    "def extractgraph_indices(initx,initz):\n",
    "    indicesx = extract_region(initx,500,'X')\n",
    "    indicesz = extract_region(initz,500,'Z')\n",
    "    if (indicesx.size>0) and (indicesz.size>0):\n",
    "        print(f'non-empty-{0}')\n",
    "        indices = np.intersect1d(indicesx,indicesz).flatten()\n",
    "        indicesy = extract_region(inity,500,'Y')\n",
    "        if (indices.size > 0) and (indicesy.size > 0):\n",
    "            print(f'non-empty-{1}')\n",
    "            indices = np.intersect1d(indices,indicesy).flatten()\n",
    "            if indices.size > 0:\n",
    "                print(f'non-empty-{2}')\n",
    "                G = nx.Graph()\n",
    "                for k in indices:\n",
    "                    G.add_edge(region['V1'][k], region['V2'][k],\\\n",
    "                               dt = region['dt'][k],\\\n",
    "                               length = region['length'][k])\n",
    "\n",
    "                return [H, initx, inity, initz, 500, len(H.nodes()), len(H.edges())]\n",
    "            else:\n",
    "                return None\n",
    "        else:\n",
    "            return None"
   ]
  },
  {
   "cell_type": "markdown",
   "metadata": {},
   "source": [
    "The original networks have multi-edges. In the main funuction whenever such multi-edges are found, we call the following function through which the parallel combination is turned into a single edge/connection with an \n",
    "effective resistance corresponding to that combination. Then using this effective resistance and the length of the vessel segment the effective thickness of the vessel segment is computed.  "
   ]
  },
  {
   "cell_type": "code",
   "execution_count": 16,
   "metadata": {},
   "outputs": [],
   "source": [
    "from scipy.stats import hmean \n",
    "\n",
    "def eff_radius(weights,combination):\n",
    "    resistances = [l/r**2 for r,l in weights]\n",
    "    if combination == 'parallel':\n",
    "        eff_resistance = hmean(resistances)/len(resistances)\n",
    "        eff_length = np.mean([l for r,l in weights])\n",
    "    else:\n",
    "        eff_resistance = sum(resistances)\n",
    "        eff_length = sum([l for r,l in weights])\n",
    "    return math.sqrt(eff_length/eff_resistance)"
   ]
  },
  {
   "cell_type": "code",
   "execution_count": 26,
   "metadata": {},
   "outputs": [],
   "source": [
    "\"\"\"\n",
    "Compute an undirected weighted graph with reciprocal (or not) of effective radii/thicknesses of vessels\n",
    "as the weights. \n",
    "The boolean argument 'descending' specifies whether the radii or the resistances of the\n",
    "vessels are considered. \n",
    "The boolean argument 'reweigh' specifies whether or not to perform quantile normalization\n",
    "of the underlying distribution of weights (gamma distribution is used as the reference distribution)\n",
    "The boolean argument 'not_shuffled' specifies whether or not to shuffle and reassign the edge weights\n",
    "\"\"\"\n",
    "\n",
    "def graph(data,descending=True,reweigh=True,not_shuffled=True):\n",
    "    G = nx.MultiGraph()\n",
    "    for k in range(len(data)):\n",
    "        G.add_edge(int(data['V1'].iloc[k]), int(data['V2'].iloc[k]),\\\n",
    "                       dt = data['dt'].iloc[k], length = data['length'].iloc[k])\n",
    "    \n",
    "    edge_list = {}\n",
    "    for edge in list(G.edges.data()):\n",
    "        e = (edge[0],edge[1])\n",
    "        if e in edge_list:\n",
    "            edge_list[e].append((edge[2]['dt'],edge[2]['length']))\n",
    "        else:\n",
    "            edge_list[e] = [(edge[2]['dt'],edge[2]['length'])]\n",
    "     \n",
    "    x = []\n",
    "    if descending:\n",
    "        for edge in edge_list:\n",
    "            if len(edge_list[(edge[0],edge[1])]) == 1:\n",
    "                x.append(1/edge_list[(edge[0],edge[1])][0][0])\n",
    "            else:\n",
    "                x.append(1/eff_radius(edge_list[(edge[0],edge[1])],'parallel'))\n",
    "    else:\n",
    "        for edge in edge_list:\n",
    "            if len(edge_list[(edge[0],edge[1])]) == 1:\n",
    "                x.append(edge_list[(edge[0],edge[1])][0][0])\n",
    "            else:\n",
    "                x.append(eff_radius(edge_list[(edge[0],edge[1])],'parallel'))\n",
    "    if reweigh:\n",
    "        x = get_new_weights(x)\n",
    "        \n",
    "    if not not_shuffled:\n",
    "        y = x.copy()\n",
    "        np.random.shuffle(x)\n",
    "        if x == y:\n",
    "            print(f'number of nodes: {len(x)}')\n",
    "    \n",
    "    H = nx.Graph()           \n",
    "    for k,edge in enumerate(edge_list):\n",
    "        H.add_edge(edge[0], edge[1], weight = x[k])\n",
    "        \n",
    "    return nx.convert_node_labels_to_integers(H,first_label=0)"
   ]
  },
  {
   "cell_type": "markdown",
   "metadata": {},
   "source": [
    "Visualizing distribution of radii/thicknesses of vessel segments of a network sample"
   ]
  },
  {
   "cell_type": "code",
   "execution_count": 13,
   "metadata": {},
   "outputs": [
    {
     "data": {
      "image/png": "[encoded data removed]",
      "text/plain": [
       "<Figure size 720x576 with 1 Axes>"
      ]
     },
     "metadata": {
      "needs_background": "light"
     },
     "output_type": "display_data"
    }
   ],
   "source": [
    "## Before re-weighing\n",
    "size_reference_dist = round(np.mean([sizes[key][1] for key,val in sizes.items()]))\n",
    "mu = np.mean([sizes[key][2] for key,val in sizes.items()])\n",
    "reference_dist = [1/x for x in gamma.rvs(a=1.3,loc=mu+1.5,scale=0.3,size=size_reference_dist)]\n",
    "plt.figure(figsize=(10,8))\n",
    "plt.hist([reference_dist,np.array([1/x for x in region1.fillna(region1.dt.describe()['50%']).dt]),\\\n",
    "          np.array([1/x for x in region2.fillna(region2.dt.describe()['50%']).dt])],\n",
    "         bins = 20,\n",
    "         density=True,\n",
    "         label=['reference distribution','Sample-1','Sample-2'])\n",
    "plt.legend(loc='upper left')\n",
    "plt.show()"
   ]
  },
  {
   "cell_type": "code",
   "execution_count": 15,
   "metadata": {},
   "outputs": [
    {
     "data": {
      "image/png": "[encoded data removed]",
      "text/plain": [
       "<Figure size 720x576 with 1 Axes>"
      ]
     },
     "metadata": {
      "needs_background": "light"
     },
     "output_type": "display_data"
    }
   ],
   "source": [
    "weights = {}\n",
    "k = 0\n",
    "for region in [region1,region2]:\n",
    "    temp = [1/x for x in region.fillna(region.dt.describe()['50%']).dt]\n",
    "    weights[k] = [np.percentile(reference_dist,stats.percentileofscore(temp,x)) for x in temp]\n",
    "    k += 1\n",
    "\n",
    "## After re-weighing\n",
    "plt.figure(figsize=(10,8))\n",
    "plt.hist([reference_dist,weights[0],weights[1]],\n",
    "         bins = 20,\n",
    "         density=True,\n",
    "         label=['reference distribution','Sample-1','Sample-2'])\n",
    "plt.legend(loc='upper left')\n",
    "plt.show()"
   ]
  },
  {
   "cell_type": "markdown",
   "metadata": {},
   "source": [
    "Quantile normalization using a gamma distribution as the reference distribution.\n",
    "Since we're interested in a quantity that is inversely proportional to the radii (as weights of the graph), notice that the reciprocal of the values of the gamma random variable are taken --  the values of the radii/thickness roughly follow gamma-like distributions (heavy tailed towards right: https://docs.scipy.org/doc/scipy/reference/generated/scipy.stats.gamma.html). This choice is arbitrary and any distribution that is close to the actual distribution of radii/thicknesses can be used (closer to the actual ditribution the better)"
   ]
  },
  {
   "cell_type": "code",
   "execution_count": 11,
   "metadata": {},
   "outputs": [],
   "source": [
    "\"\"\"\n",
    "weights: a list or an array of positive real numbers equal to reciprocal of the \n",
    "thicknesses of the vessel segments.\n",
    "a, offset and scale equal to the chosen parameters of the gamma ditribution.\n",
    "\"\"\"\n",
    "\n",
    "def get_new_weights(weights,a=1.3,offset=1.5,scale=0.3):\n",
    "    reference_dist = [1/x for x in gamma.rvs(a=a,loc=mu+offset,scale=scale,size=size_reference_dist)]\n",
    "    \n",
    "    return [np.percentile(reference_dist,stats.percentileofscore(weights,x)) for x in weights]"
   ]
  },
  {
   "cell_type": "markdown",
   "metadata": {},
   "source": [
    "Contruct a simplex tree (1D simplex) from the structure (edges/connections) and weights of the \n",
    "graph/network. The filtration function is simply the edge weights for the edges and minimum of\n",
    "edge weights for the nodes that are incident on a set of edges. Here's the link to the documentation page: https://gudhi.inria.fr/python/latest/simplex_tree_ref.html, and the link to wiki page for simplicial complex: https://en.wikipedia.org/wiki/Simplicial_complex. "
   ]
  },
  {
   "cell_type": "code",
   "execution_count": 27,
   "metadata": {},
   "outputs": [],
   "source": [
    "def create_simplicial_complex(g):\n",
    "    st = gd.SimplexTree()\n",
    "    for edge in list(g.edges.data()):\n",
    "        st.insert([edge[0],edge[1]],filtration=edge[2]['weight'])\n",
    "        \n",
    "    return st"
   ]
  },
  {
   "cell_type": "markdown",
   "metadata": {},
   "source": [
    "Compute persistence diagrams of the network samples from the vasculature dataset (with or without normalized and with or without randomly shuffled weight distributions). Here's the link to a tutorial on computing persistence homology using GUDHI with some examples: https://github.com/GUDHI/TDA-tutorial  "
   ]
  },
  {
   "cell_type": "code",
   "execution_count": 29,
   "metadata": {},
   "outputs": [],
   "source": [
    "# for label in sizes:\n",
    "#     region = pd.DataFrame(regional_groups.get_group((label[0],label[1])))\n",
    "#     df = region.fillna(region.dt.describe()['50%'])\n",
    "#     print(label)\n",
    "#     H = graph(df[['V1','V2','dt','length']])\n",
    "#     ph = create_simplicial_complex(H).persistence()\n",
    "#     with open(local_path + '/data/annotated_PH_2020/reweighed_PH_'+str(sizes[label][0])+\\\n",
    "#               '_csv/ph_'+str(sizes[label][0])+'_'+str(int(label[0]))+'_'+str(int(label[1]))\\\n",
    "#               +'.csv', 'w+') as csvfile:\n",
    "#         writer = csv.writer(csvfile)\n",
    "#         writer.writerow([len(H.nodes()),len(H.edges())])\n",
    "#         for row in ph:\n",
    "#             writer.writerow(list(row[1]))"
   ]
  },
  {
   "cell_type": "markdown",
   "metadata": {},
   "source": [
    "Sample networks and store the data. The following is an optional cell if the graphs/networks themselves are reqiured. "
   ]
  },
  {
   "cell_type": "code",
   "execution_count": null,
   "metadata": {},
   "outputs": [],
   "source": [
    "# M = np.median(np.arange(miny,maxy,500))\n",
    "# for k in np.arange(500,M,500):\n",
    "#     inity = np.median(np.arange(miny,maxy,500))-k\n",
    "#     print(inity)\n",
    "#     pool = mp.Pool(12)\n",
    "#     results = [pool.apply_async(extractgraph_cylindricalregions, args=item) for item in list(itertools.product(np.arange(minx,maxx,500),np.arange(minz,maxz,500)))]\n",
    "#     pool.close()\n",
    "#     pool.join()\n",
    "    \n",
    "#     output = [p.get() for p in results]\n",
    "#     not_none = [item for item in output if item != None]\n",
    "#     with open(f'/home1/sgmark/networks/TDA-VN-brain/data/annotated_box_graph_data_2020_500/network_data_box_sampling_nooverlaps_m_500_{int(k)}'+'.csv','a')\\\n",
    "#     as fh:\n",
    "#         writer = csv.writer(fh)\n",
    "#         for g in not_none:\n",
    "#             writer.writerow([0,0,0,0,0,0])\n",
    "#             writer.writerow([g[1],g[2],g[3],g[4],g[5],g[6]])\n",
    "#             for t in list(g[0].edges.data()):\n",
    "#                 writer.writerow([t[0],t[1],t[2]['weight']])"
   ]
  }
 ],
 "metadata": {
  "kernelspec": {
   "display_name": "demo",
   "language": "python",
   "name": "demo"
  },
  "language_info": {
   "codemirror_mode": {
    "name": "ipython",
    "version": 3
   },
   "file_extension": ".py",
   "mimetype": "text/x-python",
   "name": "python",
   "nbconvert_exporter": "python",
   "pygments_lexer": "ipython3",
   "version": "3.9.2"
  }
 },
 "nbformat": 4,
 "nbformat_minor": 2
}
