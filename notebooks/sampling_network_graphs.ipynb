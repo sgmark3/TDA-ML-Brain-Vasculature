{
 "cells": [
  {
   "cell_type": "markdown",
   "metadata": {},
   "source": [
    "#### Import packages"
   ]
  },
  {
   "cell_type": "code",
   "execution_count": 1,
   "metadata": {},
   "outputs": [],
   "source": [
    "import numpy as np\n",
    "import matplotlib.pyplot as plt\n",
    "import networkx as nx\n",
    "import math\n",
    "from numpy import random\n",
    "from networkx import linalg\n",
    "import itertools\n",
    "import pandas as pd\n",
    "import multiprocessing as mp\n",
    "import time\n",
    "import csv\n",
    "\n",
    "%matplotlib inline"
   ]
  },
  {
   "cell_type": "code",
   "execution_count": 2,
   "metadata": {},
   "outputs": [],
   "source": [
    "import subprocess\n",
    "import os\n",
    "\n",
    "cmd = subprocess.Popen('pwd', stdout=subprocess.PIPE)\n",
    "cmd_out, cmd_err = cmd.communicate()\n",
    "local_path = os.fsdecode(cmd_out).strip()"
   ]
  },
  {
   "cell_type": "markdown",
   "metadata": {},
   "source": [
    "#### Load the network data "
   ]
  },
  {
   "cell_type": "code",
   "execution_count": 3,
   "metadata": {},
   "outputs": [],
   "source": [
    "mouse_brain_network = pd.read_pickle('../data/mouse_brain_vasc_network_2018.pkl')"
   ]
  },
  {
   "cell_type": "code",
   "execution_count": 4,
   "metadata": {},
   "outputs": [
    {
     "data": {
      "image/png": "[encoded data removed]",
      "text/plain": [
       "<Figure size 432x288 with 1 Axes>"
      ]
     },
     "metadata": {
      "needs_background": "light"
     },
     "output_type": "display_data"
    }
   ],
   "source": [
    "plt.hist(np.log(mouse_brain_network['dt']),bins=30);"
   ]
  },
  {
   "cell_type": "code",
   "execution_count": 5,
   "metadata": {},
   "outputs": [
    {
     "data": {
      "text/html": [
       "<div>\n",
       "<style scoped>\n",
       "    .dataframe tbody tr th:only-of-type {\n",
       "        vertical-align: middle;\n",
       "    }\n",
       "\n",
       "    .dataframe tbody tr th {\n",
       "        vertical-align: top;\n",
       "    }\n",
       "\n",
       "    .dataframe thead th {\n",
       "        text-align: right;\n",
       "    }\n",
       "</style>\n",
       "<table border=\"1\" class=\"dataframe\">\n",
       "  <thead>\n",
       "    <tr style=\"text-align: right;\">\n",
       "      <th></th>\n",
       "      <th>V1</th>\n",
       "      <th>VX1</th>\n",
       "      <th>VY1</th>\n",
       "      <th>VZ1</th>\n",
       "      <th>V2</th>\n",
       "      <th>VX2</th>\n",
       "      <th>VY2</th>\n",
       "      <th>VZ2</th>\n",
       "      <th>dt</th>\n",
       "      <th>length</th>\n",
       "    </tr>\n",
       "  </thead>\n",
       "  <tbody>\n",
       "    <tr>\n",
       "      <th>0</th>\n",
       "      <td>1.0</td>\n",
       "      <td>3030.0</td>\n",
       "      <td>3891.0</td>\n",
       "      <td>4.0</td>\n",
       "      <td>327.0</td>\n",
       "      <td>3030.333333</td>\n",
       "      <td>3889.00</td>\n",
       "      <td>19.666667</td>\n",
       "      <td>1.878005</td>\n",
       "      <td>33.828427</td>\n",
       "    </tr>\n",
       "    <tr>\n",
       "      <th>1</th>\n",
       "      <td>2.0</td>\n",
       "      <td>2463.0</td>\n",
       "      <td>3822.0</td>\n",
       "      <td>6.0</td>\n",
       "      <td>1105.0</td>\n",
       "      <td>2429.000000</td>\n",
       "      <td>3828.00</td>\n",
       "      <td>40.000000</td>\n",
       "      <td>1.878005</td>\n",
       "      <td>39.828427</td>\n",
       "    </tr>\n",
       "    <tr>\n",
       "      <th>2</th>\n",
       "      <td>14.0</td>\n",
       "      <td>2590.0</td>\n",
       "      <td>3882.0</td>\n",
       "      <td>7.0</td>\n",
       "      <td>362.0</td>\n",
       "      <td>2666.000000</td>\n",
       "      <td>3873.25</td>\n",
       "      <td>20.750000</td>\n",
       "      <td>11.729006</td>\n",
       "      <td>16.388905</td>\n",
       "    </tr>\n",
       "    <tr>\n",
       "      <th>3</th>\n",
       "      <td>3.0</td>\n",
       "      <td>2605.0</td>\n",
       "      <td>3895.0</td>\n",
       "      <td>6.0</td>\n",
       "      <td>14.0</td>\n",
       "      <td>2590.000000</td>\n",
       "      <td>3882.00</td>\n",
       "      <td>7.000000</td>\n",
       "      <td>2.800137</td>\n",
       "      <td>58.211746</td>\n",
       "    </tr>\n",
       "    <tr>\n",
       "      <th>4</th>\n",
       "      <td>3.0</td>\n",
       "      <td>2605.0</td>\n",
       "      <td>3895.0</td>\n",
       "      <td>6.0</td>\n",
       "      <td>682.0</td>\n",
       "      <td>2620.000000</td>\n",
       "      <td>3919.00</td>\n",
       "      <td>30.000000</td>\n",
       "      <td>2.995352</td>\n",
       "      <td>21.609637</td>\n",
       "    </tr>\n",
       "  </tbody>\n",
       "</table>\n",
       "</div>"
      ],
      "text/plain": [
       "     V1     VX1     VY1  VZ1      V2          VX2      VY2        VZ2  \\\n",
       "0   1.0  3030.0  3891.0  4.0   327.0  3030.333333  3889.00  19.666667   \n",
       "1   2.0  2463.0  3822.0  6.0  1105.0  2429.000000  3828.00  40.000000   \n",
       "2  14.0  2590.0  3882.0  7.0   362.0  2666.000000  3873.25  20.750000   \n",
       "3   3.0  2605.0  3895.0  6.0    14.0  2590.000000  3882.00   7.000000   \n",
       "4   3.0  2605.0  3895.0  6.0   682.0  2620.000000  3919.00  30.000000   \n",
       "\n",
       "          dt     length  \n",
       "0   1.878005  33.828427  \n",
       "1   1.878005  39.828427  \n",
       "2  11.729006  16.388905  \n",
       "3   2.800137  58.211746  \n",
       "4   2.995352  21.609637  "
      ]
     },
     "execution_count": 5,
     "metadata": {},
     "output_type": "execute_result"
    }
   ],
   "source": [
    "mouse_brain_network.head(5)"
   ]
  },
  {
   "cell_type": "code",
   "execution_count": null,
   "metadata": {},
   "outputs": [],
   "source": [
    "# H = nx.MultiGraph()\n",
    "# edges = {}\n",
    "# for k in range(len(mouse_brain_network)):\n",
    "#     edge = (int(mouse_brain_network['V1'][k]),int(mouse_brain_network['V2'][k]))\n",
    "#     if edge in edges:\n",
    "#         edges[edge].append(mouse_brain_network['dt'][k])\n",
    "#     else:\n",
    "#         edges[edge] = [mouse_brain_network['dt'][k]]\n",
    "# result = map(lambda x:len(x[1]),list(edges.items()))\n",
    "# edge_list = []\n",
    "# for edge,k in zip(edges,list(result)):\n",
    "#     if (k > 1) and (edge not in edge_list):\n",
    "#         for i in range(len(edges[edge])):\n",
    "#             edge_list.append((edge[0],edge[1],{'weight':edges[edge][i]}))\n",
    "# for edge in edge_list:\n",
    "#     H.add_edge(edge[0],edge[1],weight=edge[2]['weight'])"
   ]
  },
  {
   "cell_type": "code",
   "execution_count": null,
   "metadata": {},
   "outputs": [],
   "source": [
    "# edge_list = {}\n",
    "# for edge in list(H.edges.data()):\n",
    "#     e = (edge[0],edge[1])\n",
    "#     if e in edge_list:\n",
    "#         edge_list[e].append(edge[2]['weight'])\n",
    "#     else:\n",
    "#         edge_list[e] = [edge[2]['weight']]"
   ]
  },
  {
   "cell_type": "code",
   "execution_count": null,
   "metadata": {},
   "outputs": [],
   "source": [
    "# K = H.__class__()\n",
    "# K.add_nodes_from(H);\n",
    "# K.add_edges_from(H.edges);\n",
    "# biggest_component = []\n",
    "# bridges = []\n",
    "# for edge in list(H.edges.data()):\n",
    "#     K.remove_edge(edge[0],edge[1])\n",
    "#     components = sorted(nx.connected_components(K), key = len, reverse = True)\n",
    "#     if len(components)>1:\n",
    "#         bridges.append(edge)\n",
    "#         if len(components[1]) > len(biggest_component):\n",
    "#             biggest_component = components[0]\n",
    "#     K.add_edge(edge[0],edge[1],weight=edge[2]['weight'])"
   ]
  },
  {
   "cell_type": "markdown",
   "metadata": {},
   "source": [
    "#### Function to extract closed trivalent graphs by sampling and trimming "
   ]
  },
  {
   "cell_type": "code",
   "execution_count": 6,
   "metadata": {},
   "outputs": [],
   "source": [
    "def spherical_region_sampling(central_node, radius):\n",
    "    \"\"\"\n",
    "    returns points within the sampling sphere centered at the zeroth node \n",
    "    \"\"\"\n",
    "\n",
    "    dist_from_zeroth_node = np.sqrt((central_node[0]-mouse_brain_network['VX1'])**2\\\n",
    "                                    +(central_node[1]-mouse_brain_network['VY1'])**2\\\n",
    "                                    +(central_node[2]-mouse_brain_network['VZ1'])**2)\n",
    "    T = np.asarray(dist_from_zeroth_node < radius)\n",
    "    indices = np.argwhere(T == True).flatten()\n",
    "    return indices"
   ]
  },
  {
   "cell_type": "code",
   "execution_count": 17,
   "metadata": {},
   "outputs": [],
   "source": [
    "def box_sampling(lb,delta,ax):\n",
    "    \"\"\"\n",
    "    returns indices of points that are contained in a box\n",
    "    \"\"\"\n",
    "    d = {'X':['VX1','VX2'],'Y':['VY1','VY2'],'Z':['VZ1','VZ2']}     \n",
    "    indices1 = list(mouse_brain_network[(mouse_brain_network[d[ax][0]] <= lb+delta) \\\n",
    "                                         & (mouse_brain_network[d[ax][0]] >= lb)].index)\n",
    "    indices2 = list(mouse_brain_network[(mouse_brain_network[d[ax][1]] <= lb+delta) \\\n",
    "                                         & (mouse_brain_network[d[ax][1]] >= lb)].index)\n",
    "    if indices1 and indices2:\n",
    "        indices = np.intersect1d(np.array(indices1),np.array(indices2)).flatten()\n",
    "    return indices"
   ]
  },
  {
   "cell_type": "code",
   "execution_count": 8,
   "metadata": {},
   "outputs": [],
   "source": [
    "from scipy.stats import hmean \n",
    "\n",
    "def eff_radius(weights,combination):\n",
    "    resistances = [l/r**2 for r,l in weights]\n",
    "    if combination == 'parallel':\n",
    "        eff_resistance = hmean(resistances)/len(resistances)\n",
    "        eff_length = np.mean([l for r,l in weights])\n",
    "    else:\n",
    "        eff_resistance = sum(resistances)\n",
    "        eff_length = sum([l for r,l in weights])\n",
    "    return math.sqrt(eff_length/eff_resistance)"
   ]
  },
  {
   "cell_type": "markdown",
   "metadata": {},
   "source": [
    "#### choosing to look around a vessel whose thickness lies in the range [r_l,r_u]"
   ]
  },
  {
   "cell_type": "code",
   "execution_count": 9,
   "metadata": {},
   "outputs": [],
   "source": [
    "def trimming(g):\n",
    "    \"\"\"\n",
    "    Graphs are reduced to trivalent closed graphs\n",
    "    \"\"\"\n",
    "    components = sorted(nx.connected_components(g), key = len, reverse = True)\n",
    "    if len(components)>1:\n",
    "        for i in range(1,len(components)):\n",
    "            for j in range(len(components[i])):\n",
    "                g.remove_node(list(components[i])[j])\n",
    "                        \n",
    "            print(len(list(nx.connected_components(g))))\n",
    "            print('Original set of smaller components removed')\n",
    "\n",
    "    #bridges are removed here\n",
    "    K = g.__class__()\n",
    "    K.add_nodes_from(g);\n",
    "    K.add_edges_from(g.edges);\n",
    "    biggest_component = []\n",
    "    bridges = []\n",
    "    for edge in list(g.edges.data()):\n",
    "        K.remove_edge(edge[0],edge[1])\n",
    "        components = sorted(nx.connected_components(K), key = len, reverse = True)\n",
    "        if len(components)>1:\n",
    "            bridges.append(edge)\n",
    "            if len(components[1]) > len(biggest_component):\n",
    "                biggest_component = components[0]\n",
    "        K.add_edge(edge[0],edge[1],dt=edge[2]['dt'],length=edge[2]['length'])\n",
    "    \n",
    "    for bridge in bridges:\n",
    "        g.remove_edge(bridge[0],bridge[1])\n",
    "        \n",
    "    components = sorted(nx.connected_components(g), key = len, reverse = True)\n",
    "    if len(components)>1:\n",
    "        for i in range(1,len(components)):\n",
    "            for j in range(len(components[i])):\n",
    "                g.remove_node(list(components[i])[j])\n",
    "\n",
    "    print('Smaller components removed')\n",
    "\n",
    "    #final trimming to remove nodes of degree two, one and zero\n",
    "    \n",
    "    edge_list = {}\n",
    "    for edge in list(g.edges.data()):\n",
    "        e = (edge[0],edge[1])\n",
    "        if e in edge_list:\n",
    "            edge_list[e].append((edge[2]['dt'],edge[2]['length']))\n",
    "        else:\n",
    "            edge_list[e] = [(edge[2]['dt'],edge[2]['length'])]\n",
    "    \n",
    "\n",
    "    flag = True\n",
    "    while flag == True:\n",
    "        remove_nodes_degree_1 = []\n",
    "        remove_nodes_degree_2 = []\n",
    "        add_edges = []\n",
    "        for n in list(g.nodes):\n",
    "            adjacent = list(g.neighbors(n))\n",
    "            if len(adjacent) == 1:\n",
    "                remove_nodes_degree_1.append(n)\n",
    "            elif len(adjacent) == 2:\n",
    "                w1 = []\n",
    "                w2 = []\n",
    "                for k in range(2):\n",
    "                    try:\n",
    "                        w1.append(eff_radius(edge_list[(n,adjacent[k])],'parallel'))\n",
    "                        w2.append(np.mean([y for x,y in edge_list[(n,adjacent[k])]]))\n",
    "                    except KeyError as ke:\n",
    "                        w1.append(eff_radius(edge_list[(adjacent[k],n)],'parallel'))\n",
    "                        w2.append(np.mean([y for x,y in edge_list[(adjacent[k],n)]]))\n",
    "\n",
    "                remove_nodes_degree_2.append(n)\n",
    "                add_edges.append([adjacent[0], adjacent[1], eff_radius([(w1[k],w2[k]) for k in range(2)],'series'), sum(w2)])\n",
    "\n",
    "        g.remove_nodes_from(remove_nodes_degree_2)\n",
    "        for e in add_edges:\n",
    "            g.add_edge(e[0], e[1], dt = e[2], length = e[3])\n",
    "            edge_list[(e[0],e[1])] = [(e[2],e[3])]\n",
    "\n",
    "        g.remove_nodes_from(remove_nodes_degree_1)\n",
    "        \n",
    "        components = sorted(nx.connected_components(g), key = len, reverse = True)\n",
    "        if len(components)>1:\n",
    "            for i in range(1,len(components)):\n",
    "                for j in range(len(components[i])):\n",
    "                    g.remove_node(list(components[i])[j])\n",
    "                    \n",
    "        flag = False\n",
    "        print(len(g.nodes()))\n",
    "        for n in list(g.nodes):\n",
    "            if (len(list(g.neighbors(n))) < 3) \\\n",
    "            and len(np.argwhere(np.asarray(sorted(d for n, d in g.degree())) >= 3)):\n",
    "                flag = True\n",
    "\n",
    "    edge_list = {}\n",
    "    for edge in list(g.edges.data()):\n",
    "        e = (edge[0],edge[1])\n",
    "        if e in edge_list:\n",
    "            edge_list[e].append((edge[2]['dt'],edge[2]['length']))\n",
    "        else:\n",
    "            edge_list[e] = [(edge[2]['dt'],edge[2]['length'])]\n",
    "    \n",
    "    print(len(list(nx.connected_components(g))))\n",
    "    H = nx.Graph()        \n",
    "    for edge in edge_list:\n",
    "        if len(edge_list[(edge[0],edge[1])]) == 1:\n",
    "            H.add_edge(edge[0],edge[1],weight=edge_list[(edge[0],edge[1])][0][0])\n",
    "        else:\n",
    "            H.add_edge(edge[0],edge[1],weight=eff_radius(edge_list[(edge[0],edge[1])],'parallel'))\n",
    "            \n",
    "    return H"
   ]
  },
  {
   "cell_type": "code",
   "execution_count": 10,
   "metadata": {},
   "outputs": [],
   "source": [
    "from scipy.stats import iqr\n",
    "\n",
    "iqr = iqr(mouse_brain_network.dt)\n",
    "dt_med = mouse_brain_network.dt.describe()['50%']\n",
    "dt_first_quartile = mouse_brain_network.dt.describe()['25%']\n",
    "dt_third_quartile = mouse_brain_network.dt.describe()['75%']\n",
    "dt_outliers = [x for x in mouse_brain_network.dt if (x>dt_third_quartile + 1.5*iqr) or (x<dt_first_quartile - 1.5*iqr)]"
   ]
  },
  {
   "cell_type": "markdown",
   "metadata": {},
   "source": [
    "##### Roughly 11 (for the 2019 and 2018 datasets, 9% for the 2020 dataset) percent of the vessels have thicknesses that are outliers according to the std. definition of outliers"
   ]
  },
  {
   "cell_type": "code",
   "execution_count": 12,
   "metadata": {},
   "outputs": [
    {
     "name": "stdout",
     "output_type": "stream",
     "text": [
      "11.634157604631437\n"
     ]
    }
   ],
   "source": [
    "print(100*len(dt_outliers)/len(mouse_brain_network.dt))"
   ]
  },
  {
   "cell_type": "code",
   "execution_count": 13,
   "metadata": {},
   "outputs": [],
   "source": [
    "## for the 2020 dataset\n",
    "#r_l = dt_third_quartile+220*iqr\n",
    "## for the 2019 dataset\n",
    "#r_l = dt_third_quartile+300*iqr\n",
    "## for the 2018 dataset\n",
    "r_l = dt_third_quartile+235*iqr\n",
    "r_u = max(mouse_brain_network.dt)\n",
    "radius = 300.0\n",
    "\n",
    "# the set of edges\n",
    "arr = set(mouse_brain_network[mouse_brain_network['dt'] > r_l].index) - set(mouse_brain_network[mouse_brain_network['dt'] > r_u].index)"
   ]
  },
  {
   "cell_type": "code",
   "execution_count": 15,
   "metadata": {},
   "outputs": [],
   "source": [
    "def top_analysis(edge_index, radius = radius, sampling_method='spherical', delta_thickness = None, box = None, size = None, trim = True, grading_on_thickness = False):\n",
    "    \"\"\"\n",
    "    This function takes as inputs an edge of thickness within a certain predefined range and the radius of\n",
    "    the sampling sphere, and returns a closed trivalent graph along with estimated node density, vessel length\n",
    "    density, sampling radius, the central node and the incident edge that was entered as the input.\n",
    "    \"\"\"\n",
    "    if sampling_method == 'spherical':\n",
    "        center = (mouse_brain_network['VX1'][edge_index],mouse_brain_network['VY1'][edge_index],\\\n",
    "                                             mouse_brain_network['VZ1'][edge_index])\n",
    "        print(center)\n",
    "        indices = spherical_region_sampling(center,radius)\n",
    "    else:\n",
    "            indicesx = box_sampling(box[0],size,'X')\n",
    "            indicesz = box_sampling(box[2],size,'Z')\n",
    "            indices = np.intersect1d(indicesx,indicesz).flatten()\n",
    "            indices = np.intersect1d(indices,box_sampling(box[1],size,'Y')).flatten()\n",
    "    \n",
    "    G = nx.MultiGraph()\n",
    "    for k in indices:\n",
    "        G.add_edge(int(mouse_brain_network['V1'][k]), int(mouse_brain_network['V2'][k]), \\\n",
    "                   dt = mouse_brain_network['dt'][k], length = mouse_brain_network['length'][k])\n",
    "    \n",
    "    vl_density = 0.0\n",
    "    for e in list(G.edges.data()):\n",
    "        vl_density = vl_density + e[2]['length']\n",
    "\n",
    "        if sampling_method == \"spherical\":\n",
    "            vl_density = vl_density/(radius**3)\n",
    "            node_density = len(G.nodes())/(radius**3)\n",
    "        else:\n",
    "            vl_density = vl_density/(size**3)\n",
    "            node_density = len(G.nodes())/(size**3)\n",
    "    \n",
    "    if trim:\n",
    "        if sampling_method == \"spherical\":\n",
    "            return [trimming(G), edge_index, center[0], center[1], center[2], radius, vl_density, node_density]\n",
    "        else:\n",
    "            return [trimming(G), initx, inity, initz, size, node_density, vl_density]\n",
    "        \n",
    "    else:\n",
    "        if sampling_method == \"spherical\":\n",
    "            return [G, edge_index, center[0], center[1], center[2], radius, node_density, vl_density]\n",
    "        else:\n",
    "            return [G, initx, inity, initz, size, node_density, vl_density]"
   ]
  },
  {
   "cell_type": "markdown",
   "metadata": {},
   "source": [
    "#### Setting up asynchronous parallel jobs"
   ]
  },
  {
   "cell_type": "code",
   "execution_count": 20,
   "metadata": {},
   "outputs": [],
   "source": [
    "## Recommend giving slices of list arr with size equal to that of the number of jobs\n",
    "pool = mp.Pool(2)\n",
    "\n",
    "start = time.process_time()\n",
    "arr = list(arr)\n",
    "\n",
    "results = [pool.apply_async(top_analysis, args=(edge_index, radius)) for edge_index in list(arr)]\n",
    "pool.close()\n",
    "pool.join()\n",
    "\n",
    "finish = time.process_time()\n",
    "print(f'Time take in seconds: {round(finish-start,2)}')"
   ]
  },
  {
   "cell_type": "markdown",
   "metadata": {},
   "source": [
    "#### Writing the output to a csv file"
   ]
  },
  {
   "cell_type": "code",
   "execution_count": 18,
   "metadata": {},
   "outputs": [
    {
     "name": "stdout",
     "output_type": "stream",
     "text": [
      "mouse_brain_data_eff_radii_153_172_0_300.csv\n"
     ]
    }
   ],
   "source": [
    "# change the integer inside the fstring to avoid overwriting files or use tag \"a\" for append while writing \n",
    "# in the next cell\n",
    "output = [p.get() for p in results]\n",
    "s = 'mouse_brain_data_eff_radii_' + str(int(r_l)) + '_' + str(int(r_u)) + f'_{0}_'  + str(int(radius)) + '.csv'\n",
    "print(s)"
   ]
  },
  {
   "cell_type": "code",
   "execution_count": 22,
   "metadata": {},
   "outputs": [],
   "source": [
    "with open('../trimmed_networks/'+s, 'w+') as fh:\n",
    "    writer = csv.writer(fh)\n",
    "    for g in output:\n",
    "        print(len(g[0].nodes()))\n",
    "        if len(g[0].nodes()) >= 500 and len(g[0].nodes()) <= 2000:\n",
    "            writer.writerow([0,0,0,0,0]) ## a filler line to separate different network samples\n",
    "            writer.writerow([g[1], g[2], g[3], g[4], g[5], g[6], g[7]])\n",
    "            for t in list(g[0].edges.data()):\n",
    "                writer.writerow([t[0],t[1],t[2]['weight']])"
   ]
  },
  {
   "cell_type": "code",
   "execution_count": null,
   "metadata": {},
   "outputs": [],
   "source": []
  }
 ],
 "metadata": {
  "kernelspec": {
   "display_name": "demo",
   "language": "python",
   "name": "demo"
  },
  "language_info": {
   "codemirror_mode": {
    "name": "ipython",
    "version": 3
   },
   "file_extension": ".py",
   "mimetype": "text/x-python",
   "name": "python",
   "nbconvert_exporter": "python",
   "pygments_lexer": "ipython3",
   "version": "3.9.2"
  }
 },
 "nbformat": 4,
 "nbformat_minor": 4
}
