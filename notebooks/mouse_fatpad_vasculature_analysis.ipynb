{
 "cells": [
  {
   "cell_type": "markdown",
   "metadata": {},
   "source": [
    "### Import basic packages"
   ]
  },
  {
   "cell_type": "code",
   "execution_count": 1,
   "metadata": {},
   "outputs": [],
   "source": [
    "import numpy as np\n",
    "import matplotlib.pyplot as plt\n",
    "import networkx as nx\n",
    "import scipy as sp\n",
    "import math\n",
    "from numpy import random\n",
    "import pandas as pd\n",
    "import concurrent.futures\n",
    "import time\n",
    "import csv\n",
    "\n",
    "%matplotlib inline"
   ]
  },
  {
   "cell_type": "markdown",
   "metadata": {},
   "source": [
    "### set local path"
   ]
  },
  {
   "cell_type": "code",
   "execution_count": 2,
   "metadata": {},
   "outputs": [],
   "source": [
    "import subprocess\n",
    "import os\n",
    "\n",
    "cmd = subprocess.Popen('pwd', stdout=subprocess.PIPE)\n",
    "cmd_out, cmd_err = cmd.communicate()\n",
    "local_path = os.fsdecode(cmd_out).strip()"
   ]
  },
  {
   "cell_type": "markdown",
   "metadata": {},
   "source": [
    "### load data"
   ]
  },
  {
   "cell_type": "code",
   "execution_count": 4,
   "metadata": {},
   "outputs": [
    {
     "name": "stdout",
     "output_type": "stream",
     "text": [
      "It took 0.3693145720001212 seconds.\n"
     ]
    }
   ],
   "source": [
    "import csv\n",
    "\n",
    "global gdata\n",
    "global markers\n",
    "\n",
    "start = time.perf_counter()\n",
    "\n",
    "gdata=[]\n",
    "markers = []\n",
    "with open(local_path+'/trimmed_networks/mouse_brain_data_0_1_0_300.csv') as f:\n",
    "    reader = csv.reader(f)\n",
    "    for row in reader:\n",
    "        b = []\n",
    "        for x in row:\n",
    "            b.append(float(x))\n",
    "        gdata.append(b)\n",
    "\n",
    "for k in range(len(gdata)):        \n",
    "    if gdata[k] == [0,0,0,0,0]:\n",
    "        markers.append(k)    \n",
    "    \n",
    "finish = time.perf_counter()\n",
    "print(f'It took {finish - start} seconds.')"
   ]
  },
  {
   "cell_type": "code",
   "execution_count": 5,
   "metadata": {},
   "outputs": [],
   "source": [
    "def get_key(my_dict, val):\n",
    "    \n",
    "    \"\"\"\n",
    "    Input: my_dict is a dictionary\n",
    "           val is a value\n",
    "    \n",
    "    returns key of val in my_dict\n",
    "    \"\"\"\n",
    "    \n",
    "    for key, value in my_dict.items():\n",
    "        if val == value:\n",
    "            return key\n",
    "\n",
    "    return \"key doesn't exist\""
   ]
  },
  {
   "cell_type": "code",
   "execution_count": 9,
   "metadata": {},
   "outputs": [],
   "source": [
    "def create_graph(n,shuffling=False):\n",
    "    \n",
    "    \"\"\"\n",
    "    Input: n is a integer that specifies a starting index and an ending index in the list gdata to\n",
    "          specify a list of connections to form a graph.\n",
    "          kwarg shuffling sets the option of shuffling edge weights, default is False. \n",
    "    \n",
    "    returns a weighted graph\n",
    "    \"\"\"\n",
    "    \n",
    "    H = nx.Graph()\n",
    "    x = [item[2] for item in gdata[markers[n]+2:markers[n+1]]]\n",
    "    if shuffling:\n",
    "        random.shuffle(x)\n",
    "        \n",
    "    for k in range(markers[n]+2,markers[n+1]):\n",
    "        H.add_edge(int(gdata[k][0]), int(gdata[k][1]), weight = x[k-markers[n]-2])\n",
    "        \n",
    "    print(len(H.nodes()))\n",
    "    return H"
   ]
  },
  {
   "cell_type": "code",
   "execution_count": 7,
   "metadata": {},
   "outputs": [],
   "source": [
    "def compute_min_basis(G):\n",
    "    \n",
    "    \"\"\"\n",
    "    Input: G is a networkx graph object.\n",
    "    \n",
    "    returns a minimal cycle basis of a weighted graph. \n",
    "    \"\"\"\n",
    "    \n",
    "    min_basis = [sorted(c) for c in nx.minimum_cycle_basis(G)]\n",
    "    for cycle in min_basis:\n",
    "        if len(cycle) == 1:\n",
    "            min_basis.remove(cycle)\n",
    "                \n",
    "    return min_basis"
   ]
  },
  {
   "cell_type": "code",
   "execution_count": 18,
   "metadata": {},
   "outputs": [],
   "source": [
    "def after_cycle_basis(min_basis,H):\n",
    "    \n",
    "    \"\"\"\n",
    "    Inputs: min_basis is a list, H is a networkx graph object.\n",
    "    \n",
    "    returns edges of the cycles in the basis and a grouped list of edge indices, where the\n",
    "    group index is the cycle index in the cycle basis list. \n",
    "    \n",
    "    This extra step is required because the minimal basis computed by NetworkX does not \n",
    "    necessarily return the nodesin each cycle in the order in which they're connected, \n",
    "    meaning one cannot assume that the consecutive nodes form edges in the network graph.\n",
    "    \n",
    "    \"\"\"\n",
    "    \n",
    "    ordered_cycles = []\n",
    "    cycle_index = []\n",
    "    i = 0\n",
    "    j = -1\n",
    "    for f in min_basis:\n",
    "        ordered_cycles.append(list(nx.all_simple_paths(H, source=f[0], target=f[len(f)-1], cutoff = len(f)-1)))\n",
    "        cycle_index.append([i,list(range(j+1,j + len(f)+1))])\n",
    "        j = j + len(f)\n",
    "        i = i + 1\n",
    "\n",
    "    i = 0\n",
    "    cycle_basis_edges = []\n",
    "    for paths in ordered_cycles:\n",
    "        if set(min_basis[i]) == set(max(paths, key=len)):\n",
    "            cycle_basis_edges.append(list(zip(max(paths, key=len),\\\n",
    "                                              max(paths, key=len)[1:] + max(paths, key=len)[:1])))\n",
    "        else:\n",
    "            flag = False\n",
    "                \n",
    "            for path in paths:\n",
    "                if set(path) ==  set(min_basis[i]):\n",
    "                    flag = True\n",
    "                e = [list(zip(path, path[1:] + path[:1])) \\\n",
    "                     for path in paths if set(path) <= (set(min_basis[i]))]\n",
    "                \n",
    "            l = []\n",
    "            for item in e:\n",
    "                for subitem in item:\n",
    "                    l.append(subitem)\n",
    "        \n",
    "            cycle_basis_edges.append(list(set(l)))\n",
    "            if flag == False:\n",
    "                cycle_basis_edges[i].remove((min_basis[i][len(min_basis[i])-1], min_basis[i][0]))\n",
    "            else:\n",
    "                cycle_basis_edges[i].remove((min_basis[i][0], min_basis[i][len(min_basis[i])-1]))\n",
    "            \n",
    "                                     \n",
    "        i = i + 1\n",
    "        \n",
    "    return [cycle_basis_edges, cycle_index]"
   ]
  },
  {
   "cell_type": "code",
   "execution_count": 19,
   "metadata": {},
   "outputs": [],
   "source": [
    "def before_nesting_tree(edgelist,indices,H):\n",
    "    \n",
    "    \"\"\"\n",
    "    Inputs: list of lists, where the inner lists contain edges of cycles in the basis.\n",
    "            list of lists, where inner list contains cycle index and the range of edge indices\n",
    "            of edges that are incideent on that cycle. H is a networkx graph object.\n",
    "            \n",
    "    returns cycle-edge incidence dictionary and a dictionary of edges of multiplicity greater than one,\n",
    "    where the keys are the edges and the values are a list of cycle indices incident on those edges and \n",
    "    their weights respectively.\n",
    "    \"\"\"\n",
    "    \n",
    "\n",
    "    E = []\n",
    "    for lis in edgelist:\n",
    "        for tup in lis:\n",
    "            E.append(tup)\n",
    "\n",
    "    O = {}\n",
    "    weights = {}\n",
    "    for item in list(set(E)):\n",
    "        edge_mult = []\n",
    "        if E.count(item) > 1:\n",
    "            n = E.index(item)\n",
    "            edge_mult.append(n)\n",
    "            for k in range(E.count(item)-1):\n",
    "                m = E[n+1:].index(item)\n",
    "                edge_mult.append(n+m+1)\n",
    "                n = n + m + 1\n",
    "            \n",
    "            try:\n",
    "                weights[item] = list(H.edges.data())[list(H.edges).index(item)][2]['weight']\n",
    "                O[item]  = edge_mult\n",
    "            except ValueError as ve:\n",
    "                weights[(item[1],item[0])] = \\\n",
    "                list(H.edges.data())[list(H.edges).index((item[1],item[0]))][2]['weight']\n",
    "                O[(item[1],item[0])]  = edge_mult\n",
    "            \n",
    "        \n",
    "    #the incidence matrix of edges and cycles\n",
    "\n",
    "    cycle_edge_incidence = {}\n",
    "    l1 = []\n",
    "    for edge in list(O.keys()):\n",
    "        for m in O[edge]:\n",
    "            for lis in indices:\n",
    "                for k in lis[1]:\n",
    "                    if m == k:\n",
    "                        l1.append(lis[0])\n",
    "                        \n",
    "        cycle_edge_incidence[edge] = l1\n",
    "        l1 = []\n",
    " \n",
    "    return [cycle_edge_incidence, weights]"
   ]
  },
  {
   "cell_type": "code",
   "execution_count": 20,
   "metadata": {},
   "outputs": [],
   "source": [
    "def nesting_tree(CE_incidence_dict, w, basis):\n",
    "    \n",
    "    \"\"\"\n",
    "    Input: CE_incidence_dict is the cycle-edge incidence dictionary\n",
    "           w is the corresponding weights dictionary\n",
    "           basis is the list of cycles in a minimal cycle basis\n",
    "           \n",
    "    returns the nesting tree or nesting trees as S\n",
    "    \"\"\"\n",
    "    \n",
    "    cycle_edge_incidence_updated = CE_incidence_dict.copy()\n",
    "    weights_updated = w.copy()\n",
    "    min_basis_updated = basis.copy()\n",
    "    \n",
    "    characteristic_tree = []\n",
    "    \n",
    "    while len(weights_updated) > 0:\n",
    "        merge_list = []\n",
    "        for k in cycle_edge_incidence_updated[get_key(weights_updated, min(weights_updated.values()))]:\n",
    "            merge_list.append([len(min_basis_updated[k]), k])\n",
    "\n",
    "        if len(merge_list) > 1:\n",
    "            \n",
    "            merge_list = sorted(merge_list)[0:2]\n",
    "            cycle_edge_incidence_updated.pop(get_key(weights_updated, min(weights_updated.values())))\n",
    "            \n",
    "            for j in range(len(cycle_edge_incidence_updated.values())):\n",
    "                \n",
    "                flag = False\n",
    "                temp = []\n",
    "                \n",
    "                if merge_list[0][1] in list(cycle_edge_incidence_updated.values())[j]:\n",
    "                    key = get_key(cycle_edge_incidence_updated,\\\n",
    "                                  list(cycle_edge_incidence_updated.values())[j])\n",
    "                    temp = cycle_edge_incidence_updated[key]\n",
    "                    temp.remove(merge_list[0][1])\n",
    "                    temp.append(len(min_basis_updated))            \n",
    "                    flag = True\n",
    "                \n",
    "                if merge_list[1][1] in list(cycle_edge_incidence_updated.values())[j]:\n",
    "                    if flag ==  True:\n",
    "                        temp.remove(merge_list[1][1])\n",
    "                    else:\n",
    "                        key = get_key(cycle_edge_incidence_updated,\\\n",
    "                                      list(cycle_edge_incidence_updated.values())[j])\n",
    "                        temp = cycle_edge_incidence_updated[key]\n",
    "                        temp.remove(merge_list[1][1])\n",
    "                        temp.append(len(min_basis_updated))\n",
    "                \n",
    "                if len(temp) != 0:\n",
    "                    cycle_edge_incidence_updated[key] = temp\n",
    "    \n",
    "            characteristic_tree.append([[merge_list[0][1], merge_list[1][1]], len(min_basis_updated)])\n",
    "            t = min_basis_updated[merge_list[0][1]] + min_basis_updated[merge_list[1][1]]\n",
    "            t.remove(get_key(weights_updated, min(weights_updated.values()))[0])\n",
    "            t.remove(get_key(weights_updated, min(weights_updated.values()))[1])\n",
    "            min_basis_updated.append(t)\n",
    "            weights_updated.pop(get_key(weights_updated, min(weights_updated.values())))\n",
    "        else:\n",
    "            weights_updated.pop(get_key(weights_updated, min(weights_updated.values())))\n",
    "    \n",
    "    S = nx.Graph()\n",
    "    \n",
    "    for lis in characteristic_tree:\n",
    "        S.add_edges_from([(lis[0][0], lis[1]), (lis[0][1], lis[1])])\n",
    "            \n",
    "    return S"
   ]
  },
  {
   "cell_type": "code",
   "execution_count": 21,
   "metadata": {},
   "outputs": [],
   "source": [
    "def graph_analysis(n,flag=False):\n",
    "    \n",
    "    \"\"\"\n",
    "    Input: n is a integer that specifies a starting index and an ending index in the list gdata to\n",
    "          specify a list of connections to form a graph.\n",
    "          kwarg shuffling sets the option of shuffling edge weights, default is False. \n",
    "    \n",
    "    returns trees\n",
    "    \"\"\"\n",
    "    \n",
    "    G = create_graph(n)\n",
    "    basis = compute_min_basis(G)\n",
    "    edgelist, indices = after_cycle_basis(basis,G)\n",
    "    CE_indcidence_dict, w = before_nesting_tree(edgelist,indices,G)\n",
    "    trees = nesting_tree(CE_indcidence_dict,w,basis)\n",
    "    \n",
    "    return trees"
   ]
  },
  {
   "cell_type": "markdown",
   "metadata": {},
   "source": [
    "### submitting asynchronous parallel jobs"
   ]
  },
  {
   "cell_type": "code",
   "execution_count": 136,
   "metadata": {},
   "outputs": [],
   "source": [
    "start = time.perf_counter()\n",
    "trees = []\n",
    "with concurrent.futures.ProcessPoolExecutor() as executor:\n",
    "    results = executor.map(graph_analysis,range(len(markers)-3,len(markers)-2))\n",
    "    \n",
    "    filename = '/nesting_trees_10_11_200' + '.csv'\n",
    "    with open(local_path + filename, 'a') as f:\n",
    "        writer = csv.writer(f)\n",
    "        for result in results:\n",
    "            trees.append(result)\n",
    "            writer.writerow([0,0])\n",
    "            for item in list(result.edges.data()):\n",
    "                writer.writerow([item[0],item[1]])\n",
    "\n",
    "                    \n",
    "finish = time.perf_counter()\n",
    "print(f'It took {finish - start} seconds.')"
   ]
  },
  {
   "cell_type": "markdown",
   "metadata": {},
   "source": [
    "### visualizing the characteristic tree"
   ]
  },
  {
   "cell_type": "code",
   "execution_count": 135,
   "metadata": {},
   "outputs": [
    {
     "data": {
      "image/png": "[encoded data removed]",
      "text/plain": [
       "<Figure size 432x288 with 1 Axes>"
      ]
     },
     "metadata": {},
     "output_type": "display_data"
    }
   ],
   "source": [
    "pos = nx.kamada_kawai_layout(trees[0].subgraph(sorted(list(nx.connected_components(trees[0])),\\\n",
    "                                                      key = len, reverse = True)[0]))\n",
    "nx.draw(trees[0].subgraph(sorted(list(nx.connected_components(trees[0])), key = len, reverse = True)[0]),\\\n",
    "        pos, node_color='red', node_size=10, cmap=plt.cm.Blues, with_labels=False) "
   ]
  },
  {
   "cell_type": "code",
   "execution_count": null,
   "metadata": {},
   "outputs": [],
   "source": []
  }
 ],
 "metadata": {
  "kernelspec": {
   "display_name": "Python 3",
   "language": "python",
   "name": "python3"
  },
  "language_info": {
   "codemirror_mode": {
    "name": "ipython",
    "version": 3
   },
   "file_extension": ".py",
   "mimetype": "text/x-python",
   "name": "python",
   "nbconvert_exporter": "python",
   "pygments_lexer": "ipython3",
   "version": "3.7.4"
  }
 },
 "nbformat": 4,
 "nbformat_minor": 2
}
